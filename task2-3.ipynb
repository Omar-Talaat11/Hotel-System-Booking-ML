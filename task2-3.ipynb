{
 "cells": [
  {
   "cell_type": "markdown",
   "id": "4ed4985d",
   "metadata": {},
   "source": [
    "# Task 2"
   ]
  },
  {
   "cell_type": "markdown",
   "id": "71191c0b",
   "metadata": {},
   "source": [
    "Import Needed Libraries"
   ]
  },
  {
   "cell_type": "code",
   "execution_count": 2,
   "id": "82982eb4",
   "metadata": {},
   "outputs": [],
   "source": [
    "import pandas as pd\n",
    "import numpy as np\n",
    "from sklearn.model_selection import train_test_split\n",
    "from sklearn.linear_model import LogisticRegression\n",
    "from sklearn.decomposition import PCA\n",
    "from sklearn.preprocessing import StandardScaler,PolynomialFeatures\n",
    "import matplotlib.pyplot as plt\n",
    "from scipy.stats import zscore, skew\n",
    "from sklearn.preprocessing import LabelEncoder\n",
    "from sklearn.metrics import mean_squared_error, f1_score, accuracy_score, classification_report\n",
    "\n",
    "from sklearn.tree import DecisionTreeClassifier\n",
    "from sklearn.ensemble import GradientBoostingClassifier, RandomForestClassifier\n",
    "\n",
    "import warnings\n",
    "warnings.filterwarnings('ignore')"
   ]
  },
  {
   "cell_type": "markdown",
   "id": "8236bcbe",
   "metadata": {},
   "source": [
    "Load the data"
   ]
  },
  {
   "cell_type": "code",
   "execution_count": 3,
   "id": "8ec3de92",
   "metadata": {},
   "outputs": [
    {
     "data": {
      "text/html": [
       "<div>\n",
       "<style scoped>\n",
       "    .dataframe tbody tr th:only-of-type {\n",
       "        vertical-align: middle;\n",
       "    }\n",
       "\n",
       "    .dataframe tbody tr th {\n",
       "        vertical-align: top;\n",
       "    }\n",
       "\n",
       "    .dataframe thead th {\n",
       "        text-align: right;\n",
       "    }\n",
       "</style>\n",
       "<table border=\"1\" class=\"dataframe\">\n",
       "  <thead>\n",
       "    <tr style=\"text-align: right;\">\n",
       "      <th></th>\n",
       "      <th>number of adults</th>\n",
       "      <th>number of children</th>\n",
       "      <th>number of weekend nights</th>\n",
       "      <th>number of week nights</th>\n",
       "      <th>car parking space</th>\n",
       "      <th>lead time</th>\n",
       "      <th>repeated</th>\n",
       "      <th>P-C</th>\n",
       "      <th>P-not-C</th>\n",
       "      <th>average price</th>\n",
       "      <th>special requests</th>\n",
       "    </tr>\n",
       "  </thead>\n",
       "  <tbody>\n",
       "    <tr>\n",
       "      <th>count</th>\n",
       "      <td>36285.000000</td>\n",
       "      <td>36285.000000</td>\n",
       "      <td>36285.000000</td>\n",
       "      <td>36285.000000</td>\n",
       "      <td>36285.000000</td>\n",
       "      <td>36285.000000</td>\n",
       "      <td>36285.000000</td>\n",
       "      <td>36285.000000</td>\n",
       "      <td>36285.000000</td>\n",
       "      <td>36285.000000</td>\n",
       "      <td>36285.000000</td>\n",
       "    </tr>\n",
       "    <tr>\n",
       "      <th>mean</th>\n",
       "      <td>1.844839</td>\n",
       "      <td>0.105360</td>\n",
       "      <td>0.810693</td>\n",
       "      <td>2.204602</td>\n",
       "      <td>0.030977</td>\n",
       "      <td>85.239851</td>\n",
       "      <td>0.025630</td>\n",
       "      <td>0.023343</td>\n",
       "      <td>0.153369</td>\n",
       "      <td>103.421636</td>\n",
       "      <td>0.619733</td>\n",
       "    </tr>\n",
       "    <tr>\n",
       "      <th>std</th>\n",
       "      <td>0.518813</td>\n",
       "      <td>0.402704</td>\n",
       "      <td>0.870590</td>\n",
       "      <td>1.410946</td>\n",
       "      <td>0.173258</td>\n",
       "      <td>85.938796</td>\n",
       "      <td>0.158032</td>\n",
       "      <td>0.368281</td>\n",
       "      <td>1.753931</td>\n",
       "      <td>35.086469</td>\n",
       "      <td>0.786262</td>\n",
       "    </tr>\n",
       "    <tr>\n",
       "      <th>min</th>\n",
       "      <td>0.000000</td>\n",
       "      <td>0.000000</td>\n",
       "      <td>0.000000</td>\n",
       "      <td>0.000000</td>\n",
       "      <td>0.000000</td>\n",
       "      <td>0.000000</td>\n",
       "      <td>0.000000</td>\n",
       "      <td>0.000000</td>\n",
       "      <td>0.000000</td>\n",
       "      <td>0.000000</td>\n",
       "      <td>0.000000</td>\n",
       "    </tr>\n",
       "    <tr>\n",
       "      <th>25%</th>\n",
       "      <td>2.000000</td>\n",
       "      <td>0.000000</td>\n",
       "      <td>0.000000</td>\n",
       "      <td>1.000000</td>\n",
       "      <td>0.000000</td>\n",
       "      <td>17.000000</td>\n",
       "      <td>0.000000</td>\n",
       "      <td>0.000000</td>\n",
       "      <td>0.000000</td>\n",
       "      <td>80.300000</td>\n",
       "      <td>0.000000</td>\n",
       "    </tr>\n",
       "    <tr>\n",
       "      <th>50%</th>\n",
       "      <td>2.000000</td>\n",
       "      <td>0.000000</td>\n",
       "      <td>1.000000</td>\n",
       "      <td>2.000000</td>\n",
       "      <td>0.000000</td>\n",
       "      <td>57.000000</td>\n",
       "      <td>0.000000</td>\n",
       "      <td>0.000000</td>\n",
       "      <td>0.000000</td>\n",
       "      <td>99.450000</td>\n",
       "      <td>0.000000</td>\n",
       "    </tr>\n",
       "    <tr>\n",
       "      <th>75%</th>\n",
       "      <td>2.000000</td>\n",
       "      <td>0.000000</td>\n",
       "      <td>2.000000</td>\n",
       "      <td>3.000000</td>\n",
       "      <td>0.000000</td>\n",
       "      <td>126.000000</td>\n",
       "      <td>0.000000</td>\n",
       "      <td>0.000000</td>\n",
       "      <td>0.000000</td>\n",
       "      <td>120.000000</td>\n",
       "      <td>1.000000</td>\n",
       "    </tr>\n",
       "    <tr>\n",
       "      <th>max</th>\n",
       "      <td>4.000000</td>\n",
       "      <td>10.000000</td>\n",
       "      <td>7.000000</td>\n",
       "      <td>17.000000</td>\n",
       "      <td>1.000000</td>\n",
       "      <td>443.000000</td>\n",
       "      <td>1.000000</td>\n",
       "      <td>13.000000</td>\n",
       "      <td>58.000000</td>\n",
       "      <td>540.000000</td>\n",
       "      <td>5.000000</td>\n",
       "    </tr>\n",
       "  </tbody>\n",
       "</table>\n",
       "</div>"
      ],
      "text/plain": [
       "       number of adults  number of children  number of weekend nights  \\\n",
       "count      36285.000000        36285.000000              36285.000000   \n",
       "mean           1.844839            0.105360                  0.810693   \n",
       "std            0.518813            0.402704                  0.870590   \n",
       "min            0.000000            0.000000                  0.000000   \n",
       "25%            2.000000            0.000000                  0.000000   \n",
       "50%            2.000000            0.000000                  1.000000   \n",
       "75%            2.000000            0.000000                  2.000000   \n",
       "max            4.000000           10.000000                  7.000000   \n",
       "\n",
       "       number of week nights  car parking space     lead time      repeated  \\\n",
       "count           36285.000000       36285.000000  36285.000000  36285.000000   \n",
       "mean                2.204602           0.030977     85.239851      0.025630   \n",
       "std                 1.410946           0.173258     85.938796      0.158032   \n",
       "min                 0.000000           0.000000      0.000000      0.000000   \n",
       "25%                 1.000000           0.000000     17.000000      0.000000   \n",
       "50%                 2.000000           0.000000     57.000000      0.000000   \n",
       "75%                 3.000000           0.000000    126.000000      0.000000   \n",
       "max                17.000000           1.000000    443.000000      1.000000   \n",
       "\n",
       "                P-C       P-not-C  average price   special requests  \n",
       "count  36285.000000  36285.000000    36285.000000      36285.000000  \n",
       "mean       0.023343      0.153369      103.421636          0.619733  \n",
       "std        0.368281      1.753931       35.086469          0.786262  \n",
       "min        0.000000      0.000000        0.000000          0.000000  \n",
       "25%        0.000000      0.000000       80.300000          0.000000  \n",
       "50%        0.000000      0.000000       99.450000          0.000000  \n",
       "75%        0.000000      0.000000      120.000000          1.000000  \n",
       "max       13.000000     58.000000      540.000000          5.000000  "
      ]
     },
     "execution_count": 3,
     "metadata": {},
     "output_type": "execute_result"
    }
   ],
   "source": [
    "data = pd.read_csv(\"first inten project.csv\")\n",
    "data.describe()"
   ]
  },
  {
   "cell_type": "markdown",
   "id": "54e53377",
   "metadata": {},
   "source": [
    "1 - Data Preprocessing (Check Null , Data Type , See The correct Form of the data if there any white\n",
    "space for example or not)"
   ]
  },
  {
   "cell_type": "code",
   "execution_count": 3,
   "id": "9c9af57b",
   "metadata": {},
   "outputs": [],
   "source": [
    "data = data.drop_duplicates(subset=[\"Booking_ID\"]) #Remove dublicates based on Booking ID\n",
    "\n",
    "data.rename(columns={\"average price \":\"average price\"},inplace=True) # Remove white space\n",
    "\n",
    "for i in range(len(data[\"date of reservation\"])): #Fix inconsistent values in date and fix datatype\n",
    "    try:\n",
    "        data[\"date of reservation\"][i] = (pd.to_datetime(data[\"date of reservation\"][i]))\n",
    "    except:\n",
    "        try:\n",
    "            (pd.to_datetime(data[\"date of reservation\"][i],format=\"%Y-%m-%d\"))\n",
    "            data[\"date of reservation\"][i] = (pd.to_datetime(data[\"date of reservation\"][i],format=\"%Y-%m-%d\"))\n",
    "        except:\n",
    "            data[\"date of reservation\"][i] = '2018-2-28'\n",
    "            data[\"date of reservation\"][i] = (pd.to_datetime(data[\"date of reservation\"][i],format=\"%Y-%m-%d\"))\n"
   ]
  },
  {
   "cell_type": "code",
   "execution_count": null,
   "id": "15a31694",
   "metadata": {},
   "outputs": [
    {
     "name": "stdout",
     "output_type": "stream",
     "text": [
      "DataFrame has null values: False\n",
      "DataFrame has null values: 0\n",
      "['Not_Canceled' 'Canceled']\n"
     ]
    }
   ],
   "source": [
    "has_null = data.isnull().values.any() \n",
    "print(f\"DataFrame has null values: {has_null}\") #check for null (should be = False)\n",
    "\n",
    "# Handle missing values if any\n",
    "num_rows_with_nan = data.isna().any(axis=1).sum()\n",
    "print(f\"DataFrame has null values: {num_rows_with_nan}\")\n",
    "if num_rows_with_nan:\n",
    "  data.dropna(inplace=True)\n",
    "\n",
    "\n",
    "print(data[\"booking status\"].unique()) #check for enteries to check if there is wrong one out of unique known ones (should be = ['Not_Canceled' 'Canceled'])"
   ]
  },
  {
   "cell_type": "code",
   "execution_count": 5,
   "id": "e6c5dffc",
   "metadata": {},
   "outputs": [
    {
     "data": {
      "text/html": [
       "<div>\n",
       "<style scoped>\n",
       "    .dataframe tbody tr th:only-of-type {\n",
       "        vertical-align: middle;\n",
       "    }\n",
       "\n",
       "    .dataframe tbody tr th {\n",
       "        vertical-align: top;\n",
       "    }\n",
       "\n",
       "    .dataframe thead th {\n",
       "        text-align: right;\n",
       "    }\n",
       "</style>\n",
       "<table border=\"1\" class=\"dataframe\">\n",
       "  <thead>\n",
       "    <tr style=\"text-align: right;\">\n",
       "      <th></th>\n",
       "      <th>Booking_ID</th>\n",
       "      <th>number of adults</th>\n",
       "      <th>number of children</th>\n",
       "      <th>number of weekend nights</th>\n",
       "      <th>number of week nights</th>\n",
       "      <th>type of meal</th>\n",
       "      <th>car parking space</th>\n",
       "      <th>room type</th>\n",
       "      <th>lead time</th>\n",
       "      <th>market segment type</th>\n",
       "      <th>repeated</th>\n",
       "      <th>P-C</th>\n",
       "      <th>P-not-C</th>\n",
       "      <th>average price</th>\n",
       "      <th>special requests</th>\n",
       "      <th>date of reservation</th>\n",
       "      <th>booking status</th>\n",
       "    </tr>\n",
       "  </thead>\n",
       "  <tbody>\n",
       "    <tr>\n",
       "      <th>0</th>\n",
       "      <td>INN00001</td>\n",
       "      <td>1</td>\n",
       "      <td>1</td>\n",
       "      <td>2</td>\n",
       "      <td>5</td>\n",
       "      <td>0</td>\n",
       "      <td>0</td>\n",
       "      <td>0</td>\n",
       "      <td>224</td>\n",
       "      <td>3</td>\n",
       "      <td>0</td>\n",
       "      <td>0</td>\n",
       "      <td>0</td>\n",
       "      <td>88.00</td>\n",
       "      <td>0</td>\n",
       "      <td>2015-10-02 00:00:00</td>\n",
       "      <td>Not_Canceled</td>\n",
       "    </tr>\n",
       "    <tr>\n",
       "      <th>1</th>\n",
       "      <td>INN00002</td>\n",
       "      <td>1</td>\n",
       "      <td>0</td>\n",
       "      <td>1</td>\n",
       "      <td>3</td>\n",
       "      <td>3</td>\n",
       "      <td>0</td>\n",
       "      <td>0</td>\n",
       "      <td>5</td>\n",
       "      <td>4</td>\n",
       "      <td>0</td>\n",
       "      <td>0</td>\n",
       "      <td>0</td>\n",
       "      <td>106.68</td>\n",
       "      <td>1</td>\n",
       "      <td>2018-11-06 00:00:00</td>\n",
       "      <td>Not_Canceled</td>\n",
       "    </tr>\n",
       "    <tr>\n",
       "      <th>2</th>\n",
       "      <td>INN00003</td>\n",
       "      <td>2</td>\n",
       "      <td>1</td>\n",
       "      <td>1</td>\n",
       "      <td>3</td>\n",
       "      <td>0</td>\n",
       "      <td>0</td>\n",
       "      <td>0</td>\n",
       "      <td>1</td>\n",
       "      <td>4</td>\n",
       "      <td>0</td>\n",
       "      <td>0</td>\n",
       "      <td>0</td>\n",
       "      <td>50.00</td>\n",
       "      <td>0</td>\n",
       "      <td>2018-02-28 00:00:00</td>\n",
       "      <td>Canceled</td>\n",
       "    </tr>\n",
       "    <tr>\n",
       "      <th>3</th>\n",
       "      <td>INN00004</td>\n",
       "      <td>1</td>\n",
       "      <td>0</td>\n",
       "      <td>0</td>\n",
       "      <td>2</td>\n",
       "      <td>0</td>\n",
       "      <td>0</td>\n",
       "      <td>0</td>\n",
       "      <td>211</td>\n",
       "      <td>4</td>\n",
       "      <td>0</td>\n",
       "      <td>0</td>\n",
       "      <td>0</td>\n",
       "      <td>100.00</td>\n",
       "      <td>1</td>\n",
       "      <td>2017-05-20 00:00:00</td>\n",
       "      <td>Canceled</td>\n",
       "    </tr>\n",
       "    <tr>\n",
       "      <th>4</th>\n",
       "      <td>INN00005</td>\n",
       "      <td>1</td>\n",
       "      <td>0</td>\n",
       "      <td>1</td>\n",
       "      <td>2</td>\n",
       "      <td>3</td>\n",
       "      <td>0</td>\n",
       "      <td>0</td>\n",
       "      <td>48</td>\n",
       "      <td>4</td>\n",
       "      <td>0</td>\n",
       "      <td>0</td>\n",
       "      <td>0</td>\n",
       "      <td>77.00</td>\n",
       "      <td>0</td>\n",
       "      <td>2018-04-11 00:00:00</td>\n",
       "      <td>Canceled</td>\n",
       "    </tr>\n",
       "  </tbody>\n",
       "</table>\n",
       "</div>"
      ],
      "text/plain": [
       "  Booking_ID  number of adults  number of children  number of weekend nights  \\\n",
       "0   INN00001                 1                   1                         2   \n",
       "1   INN00002                 1                   0                         1   \n",
       "2   INN00003                 2                   1                         1   \n",
       "3   INN00004                 1                   0                         0   \n",
       "4   INN00005                 1                   0                         1   \n",
       "\n",
       "   number of week nights  type of meal  car parking space  room type  \\\n",
       "0                      5             0                  0          0   \n",
       "1                      3             3                  0          0   \n",
       "2                      3             0                  0          0   \n",
       "3                      2             0                  0          0   \n",
       "4                      2             3                  0          0   \n",
       "\n",
       "   lead time  market segment type  repeated  P-C  P-not-C  average price  \\\n",
       "0        224                    3         0    0        0          88.00   \n",
       "1          5                    4         0    0        0         106.68   \n",
       "2          1                    4         0    0        0          50.00   \n",
       "3        211                    4         0    0        0         100.00   \n",
       "4         48                    4         0    0        0          77.00   \n",
       "\n",
       "   special requests  date of reservation booking status  \n",
       "0                 0  2015-10-02 00:00:00   Not_Canceled  \n",
       "1                 1  2018-11-06 00:00:00   Not_Canceled  \n",
       "2                 0  2018-02-28 00:00:00       Canceled  \n",
       "3                 1  2017-05-20 00:00:00       Canceled  \n",
       "4                 0  2018-04-11 00:00:00       Canceled  "
      ]
     },
     "execution_count": 5,
     "metadata": {},
     "output_type": "execute_result"
    }
   ],
   "source": [
    "# Label Encoding for ['type of meal','room type','market segment type'] columns\n",
    "\n",
    "data_encoded = data\n",
    "le = LabelEncoder()\n",
    "for d in ['type of meal','room type','market segment type']:\n",
    "    data_encoded[d] = le.fit_transform(data[d])\n",
    "data_encoded.head()"
   ]
  },
  {
   "cell_type": "code",
   "execution_count": 6,
   "id": "80a75b75",
   "metadata": {},
   "outputs": [
    {
     "data": {
      "text/html": [
       "<div>\n",
       "<style scoped>\n",
       "    .dataframe tbody tr th:only-of-type {\n",
       "        vertical-align: middle;\n",
       "    }\n",
       "\n",
       "    .dataframe tbody tr th {\n",
       "        vertical-align: top;\n",
       "    }\n",
       "\n",
       "    .dataframe thead th {\n",
       "        text-align: right;\n",
       "    }\n",
       "</style>\n",
       "<table border=\"1\" class=\"dataframe\">\n",
       "  <thead>\n",
       "    <tr style=\"text-align: right;\">\n",
       "      <th></th>\n",
       "      <th>number of adults</th>\n",
       "      <th>number of children</th>\n",
       "      <th>number of weekend nights</th>\n",
       "      <th>number of week nights</th>\n",
       "      <th>type of meal</th>\n",
       "      <th>car parking space</th>\n",
       "      <th>room type</th>\n",
       "      <th>lead time</th>\n",
       "      <th>market segment type</th>\n",
       "      <th>P-C</th>\n",
       "      <th>P-not-C</th>\n",
       "      <th>average price</th>\n",
       "      <th>special requests</th>\n",
       "      <th>date of reservation</th>\n",
       "      <th>booking status</th>\n",
       "    </tr>\n",
       "  </thead>\n",
       "  <tbody>\n",
       "    <tr>\n",
       "      <th>0</th>\n",
       "      <td>1</td>\n",
       "      <td>1</td>\n",
       "      <td>2</td>\n",
       "      <td>5</td>\n",
       "      <td>0</td>\n",
       "      <td>0</td>\n",
       "      <td>0</td>\n",
       "      <td>224</td>\n",
       "      <td>3</td>\n",
       "      <td>0</td>\n",
       "      <td>0</td>\n",
       "      <td>88.00</td>\n",
       "      <td>0</td>\n",
       "      <td>1443744000</td>\n",
       "      <td>Not_Canceled</td>\n",
       "    </tr>\n",
       "    <tr>\n",
       "      <th>1</th>\n",
       "      <td>1</td>\n",
       "      <td>0</td>\n",
       "      <td>1</td>\n",
       "      <td>3</td>\n",
       "      <td>3</td>\n",
       "      <td>0</td>\n",
       "      <td>0</td>\n",
       "      <td>5</td>\n",
       "      <td>4</td>\n",
       "      <td>0</td>\n",
       "      <td>0</td>\n",
       "      <td>106.68</td>\n",
       "      <td>1</td>\n",
       "      <td>1541462400</td>\n",
       "      <td>Not_Canceled</td>\n",
       "    </tr>\n",
       "    <tr>\n",
       "      <th>2</th>\n",
       "      <td>2</td>\n",
       "      <td>1</td>\n",
       "      <td>1</td>\n",
       "      <td>3</td>\n",
       "      <td>0</td>\n",
       "      <td>0</td>\n",
       "      <td>0</td>\n",
       "      <td>1</td>\n",
       "      <td>4</td>\n",
       "      <td>0</td>\n",
       "      <td>0</td>\n",
       "      <td>50.00</td>\n",
       "      <td>0</td>\n",
       "      <td>1519776000</td>\n",
       "      <td>Canceled</td>\n",
       "    </tr>\n",
       "    <tr>\n",
       "      <th>3</th>\n",
       "      <td>1</td>\n",
       "      <td>0</td>\n",
       "      <td>0</td>\n",
       "      <td>2</td>\n",
       "      <td>0</td>\n",
       "      <td>0</td>\n",
       "      <td>0</td>\n",
       "      <td>211</td>\n",
       "      <td>4</td>\n",
       "      <td>0</td>\n",
       "      <td>0</td>\n",
       "      <td>100.00</td>\n",
       "      <td>1</td>\n",
       "      <td>1495238400</td>\n",
       "      <td>Canceled</td>\n",
       "    </tr>\n",
       "    <tr>\n",
       "      <th>4</th>\n",
       "      <td>1</td>\n",
       "      <td>0</td>\n",
       "      <td>1</td>\n",
       "      <td>2</td>\n",
       "      <td>3</td>\n",
       "      <td>0</td>\n",
       "      <td>0</td>\n",
       "      <td>48</td>\n",
       "      <td>4</td>\n",
       "      <td>0</td>\n",
       "      <td>0</td>\n",
       "      <td>77.00</td>\n",
       "      <td>0</td>\n",
       "      <td>1523404800</td>\n",
       "      <td>Canceled</td>\n",
       "    </tr>\n",
       "  </tbody>\n",
       "</table>\n",
       "</div>"
      ],
      "text/plain": [
       "   number of adults  number of children  number of weekend nights  \\\n",
       "0                 1                   1                         2   \n",
       "1                 1                   0                         1   \n",
       "2                 2                   1                         1   \n",
       "3                 1                   0                         0   \n",
       "4                 1                   0                         1   \n",
       "\n",
       "   number of week nights  type of meal  car parking space  room type  \\\n",
       "0                      5             0                  0          0   \n",
       "1                      3             3                  0          0   \n",
       "2                      3             0                  0          0   \n",
       "3                      2             0                  0          0   \n",
       "4                      2             3                  0          0   \n",
       "\n",
       "   lead time  market segment type  P-C  P-not-C  average price  \\\n",
       "0        224                    3    0        0          88.00   \n",
       "1          5                    4    0        0         106.68   \n",
       "2          1                    4    0        0          50.00   \n",
       "3        211                    4    0        0         100.00   \n",
       "4         48                    4    0        0          77.00   \n",
       "\n",
       "   special requests  date of reservation booking status  \n",
       "0                 0           1443744000   Not_Canceled  \n",
       "1                 1           1541462400   Not_Canceled  \n",
       "2                 0           1519776000       Canceled  \n",
       "3                 1           1495238400       Canceled  \n",
       "4                 0           1523404800       Canceled  "
      ]
     },
     "execution_count": 6,
     "metadata": {},
     "output_type": "execute_result"
    }
   ],
   "source": [
    "#fix formate of date of reservation to int64\n",
    "data_encoded[\"date of reservation\"] = pd.to_datetime(data_encoded[\"date of reservation\"])\n",
    "data_encoded[\"date of reservation\"] = data_encoded[\"date of reservation\"].astype('int64') // 10**9  # to seconds\n",
    "\n",
    "# drop columns that are irrelavent\n",
    "data_encoded = data_encoded.drop(columns=[\"Booking_ID\",\"repeated\"], errors='ignore')\n",
    "data_encoded.head()"
   ]
  },
  {
   "cell_type": "markdown",
   "id": "98f1b320",
   "metadata": {},
   "source": [
    "2 - Check And Handel The Outliers Using IQR or Z-Score based on skewness"
   ]
  },
  {
   "cell_type": "code",
   "execution_count": 7,
   "id": "b5ca13e0",
   "metadata": {},
   "outputs": [
    {
     "name": "stdout",
     "output_type": "stream",
     "text": [
      "Number of ouliers =  3018\n"
     ]
    }
   ],
   "source": [
    "#check for skewness \n",
    "numeric_columns = [\"lead time\", \"average price\", \"date of reservation\" ]\n",
    "outliers = pd.DataFrame()\n",
    "\n",
    "for column in numeric_columns:\n",
    "    \n",
    "    skewness_value = data_encoded[column].skew()\n",
    "    skewness_value = np.abs(skewness_value)\n",
    "    \n",
    "    if(skewness_value < 0.5): # use Z-Score\n",
    "        z_scores = zscore(data_encoded[column])\n",
    "        z_scores = np.abs(z_scores)\n",
    "        outliers = pd.concat([outliers,data_encoded.loc[z_scores>4,column]],axis=1)\n",
    "        \n",
    "    else: # use IQR\n",
    "        #check outliers for average price\n",
    "        Q1 = data_encoded[column].quantile(0.25)\n",
    "        Q3 = data_encoded[column].quantile(0.75)\n",
    "        IQR = Q3 - Q1\n",
    "\n",
    "        lower_bound = Q1 - 1.5 * IQR\n",
    "        upper_bound = Q3 + 1.5 * IQR\n",
    "        # print(f\"Lower bound = {lower_bound:.2f}, Upper bound = {upper_bound:.2f}\")\n",
    "        outliers = pd.concat([outliers,data_encoded.loc[((data_encoded[column] < lower_bound) | (data_encoded[column] > upper_bound)),column]],axis=1)\n",
    "\n",
    "print(\"Number of ouliers = \", outliers.shape[0])\n",
    "data_filtered = data_encoded.drop(outliers.index)\n",
    "        "
   ]
  },
  {
   "cell_type": "markdown",
   "id": "80aba3c6",
   "metadata": {},
   "source": [
    "3 - Feature Engineering ( Feature Selection , Feature Extraction )"
   ]
  },
  {
   "cell_type": "code",
   "execution_count": 8,
   "id": "76ae310f",
   "metadata": {},
   "outputs": [
    {
     "data": {
      "text/html": [
       "<div>\n",
       "<style scoped>\n",
       "    .dataframe tbody tr th:only-of-type {\n",
       "        vertical-align: middle;\n",
       "    }\n",
       "\n",
       "    .dataframe tbody tr th {\n",
       "        vertical-align: top;\n",
       "    }\n",
       "\n",
       "    .dataframe thead th {\n",
       "        text-align: right;\n",
       "    }\n",
       "</style>\n",
       "<table border=\"1\" class=\"dataframe\">\n",
       "  <thead>\n",
       "    <tr style=\"text-align: right;\">\n",
       "      <th></th>\n",
       "      <th>number of adults</th>\n",
       "      <th>number of children</th>\n",
       "      <th>number of weekend nights</th>\n",
       "      <th>number of week nights</th>\n",
       "      <th>type of meal</th>\n",
       "      <th>car parking space</th>\n",
       "      <th>room type</th>\n",
       "      <th>lead time</th>\n",
       "      <th>market segment type</th>\n",
       "      <th>P-C</th>\n",
       "      <th>P-not-C</th>\n",
       "      <th>average price</th>\n",
       "      <th>special requests</th>\n",
       "      <th>date of reservation</th>\n",
       "    </tr>\n",
       "  </thead>\n",
       "  <tbody>\n",
       "    <tr>\n",
       "      <th>1</th>\n",
       "      <td>1</td>\n",
       "      <td>0</td>\n",
       "      <td>1</td>\n",
       "      <td>3</td>\n",
       "      <td>3</td>\n",
       "      <td>0</td>\n",
       "      <td>0</td>\n",
       "      <td>5</td>\n",
       "      <td>4</td>\n",
       "      <td>0</td>\n",
       "      <td>0</td>\n",
       "      <td>106.68</td>\n",
       "      <td>1</td>\n",
       "      <td>1541462400</td>\n",
       "    </tr>\n",
       "    <tr>\n",
       "      <th>2</th>\n",
       "      <td>2</td>\n",
       "      <td>1</td>\n",
       "      <td>1</td>\n",
       "      <td>3</td>\n",
       "      <td>0</td>\n",
       "      <td>0</td>\n",
       "      <td>0</td>\n",
       "      <td>1</td>\n",
       "      <td>4</td>\n",
       "      <td>0</td>\n",
       "      <td>0</td>\n",
       "      <td>50.00</td>\n",
       "      <td>0</td>\n",
       "      <td>1519776000</td>\n",
       "    </tr>\n",
       "    <tr>\n",
       "      <th>3</th>\n",
       "      <td>1</td>\n",
       "      <td>0</td>\n",
       "      <td>0</td>\n",
       "      <td>2</td>\n",
       "      <td>0</td>\n",
       "      <td>0</td>\n",
       "      <td>0</td>\n",
       "      <td>211</td>\n",
       "      <td>4</td>\n",
       "      <td>0</td>\n",
       "      <td>0</td>\n",
       "      <td>100.00</td>\n",
       "      <td>1</td>\n",
       "      <td>1495238400</td>\n",
       "    </tr>\n",
       "    <tr>\n",
       "      <th>4</th>\n",
       "      <td>1</td>\n",
       "      <td>0</td>\n",
       "      <td>1</td>\n",
       "      <td>2</td>\n",
       "      <td>3</td>\n",
       "      <td>0</td>\n",
       "      <td>0</td>\n",
       "      <td>48</td>\n",
       "      <td>4</td>\n",
       "      <td>0</td>\n",
       "      <td>0</td>\n",
       "      <td>77.00</td>\n",
       "      <td>0</td>\n",
       "      <td>1523404800</td>\n",
       "    </tr>\n",
       "    <tr>\n",
       "      <th>6</th>\n",
       "      <td>1</td>\n",
       "      <td>1</td>\n",
       "      <td>1</td>\n",
       "      <td>4</td>\n",
       "      <td>0</td>\n",
       "      <td>0</td>\n",
       "      <td>0</td>\n",
       "      <td>34</td>\n",
       "      <td>4</td>\n",
       "      <td>0</td>\n",
       "      <td>0</td>\n",
       "      <td>107.55</td>\n",
       "      <td>1</td>\n",
       "      <td>1508025600</td>\n",
       "    </tr>\n",
       "  </tbody>\n",
       "</table>\n",
       "</div>"
      ],
      "text/plain": [
       "   number of adults  number of children  number of weekend nights  \\\n",
       "1                 1                   0                         1   \n",
       "2                 2                   1                         1   \n",
       "3                 1                   0                         0   \n",
       "4                 1                   0                         1   \n",
       "6                 1                   1                         1   \n",
       "\n",
       "   number of week nights  type of meal  car parking space  room type  \\\n",
       "1                      3             3                  0          0   \n",
       "2                      3             0                  0          0   \n",
       "3                      2             0                  0          0   \n",
       "4                      2             3                  0          0   \n",
       "6                      4             0                  0          0   \n",
       "\n",
       "   lead time  market segment type  P-C  P-not-C  average price  \\\n",
       "1          5                    4    0        0         106.68   \n",
       "2          1                    4    0        0          50.00   \n",
       "3        211                    4    0        0         100.00   \n",
       "4         48                    4    0        0          77.00   \n",
       "6         34                    4    0        0         107.55   \n",
       "\n",
       "   special requests  date of reservation  \n",
       "1                 1           1541462400  \n",
       "2                 0           1519776000  \n",
       "3                 1           1495238400  \n",
       "4                 0           1523404800  \n",
       "6                 1           1508025600  "
      ]
     },
     "execution_count": 8,
     "metadata": {},
     "output_type": "execute_result"
    }
   ],
   "source": [
    "# Display Correlation Matrix for features that are highly correlated with correlation coefficient > 0.8\n",
    "\n",
    "#save tarhet output for future use\n",
    "data_labels = data_filtered[\"booking status\"]\n",
    "data_filtered = data_filtered.drop(columns=\"booking status\")\n",
    "\n",
    "corr_matrix = data_filtered.corr()\n",
    "corr_matrix = corr_matrix.abs()\n",
    "# print(corr_matrix)\n",
    "high_corr_pairs = []\n",
    "\n",
    "for column in corr_matrix.columns:\n",
    "    for item in corr_matrix[column]:\n",
    "        if item == 1:\n",
    "            continue\n",
    "        if (item>0.8):\n",
    "            high_corr_pairs.append(column)\n",
    "\n",
    "# print(high_corr_pairs)\n",
    "data_filtered = data_filtered.drop(columns=high_corr_pairs)\n",
    "data_filtered.head()"
   ]
  },
  {
   "cell_type": "code",
   "execution_count": 9,
   "id": "0c58bb5c",
   "metadata": {},
   "outputs": [],
   "source": [
    "# Create new features\n",
    "data_filtered['stay_duration'] = data_filtered['number of weekend nights'] + data_filtered['number of week nights']\n",
    "data_filtered['total_guests'] = data_filtered['number of adults'] + data_filtered['number of children']\n"
   ]
  },
  {
   "cell_type": "code",
   "execution_count": 10,
   "id": "6ed2d324",
   "metadata": {},
   "outputs": [
    {
     "data": {
      "image/png": "[encoded data removed]",
      "text/plain": [
       "<Figure size 600x400 with 1 Axes>"
      ]
     },
     "metadata": {},
     "output_type": "display_data"
    }
   ],
   "source": [
    "# Feature Extraction using PCA\n",
    "\n",
    "# Standardize the features\n",
    "scaler = StandardScaler()\n",
    "data_scaled = scaler.fit_transform(data_filtered)\n",
    "\n",
    "pca = PCA(n_components=2)\n",
    "data_pca = pca.fit_transform(data_scaled)\n",
    "\n",
    "# Plot the PCA result\n",
    "plt.figure(figsize=(6, 4))\n",
    "plt.scatter(data_pca[:, 0], data_pca[:, 1],alpha=0.7)\n",
    "plt.xlabel('Principal Component 1')\n",
    "plt.ylabel('Principal Component 2')\n",
    "plt.title('PCA Result (2 Components)')\n",
    "plt.grid(True)\n",
    "plt.show()"
   ]
  },
  {
   "cell_type": "markdown",
   "id": "ad6b4689",
   "metadata": {},
   "source": [
    "4 - Transformation For The Categorical Data"
   ]
  },
  {
   "cell_type": "code",
   "execution_count": null,
   "id": "5b7f4733",
   "metadata": {},
   "outputs": [],
   "source": [
    "#save target output for future use\n",
    "data_labels = le.fit_transform(data_labels)"
   ]
  },
  {
   "cell_type": "markdown",
   "id": "cedb2654",
   "metadata": {},
   "source": [
    "5 - Train Test Split"
   ]
  },
  {
   "cell_type": "code",
   "execution_count": 12,
   "id": "fc20ed6f",
   "metadata": {},
   "outputs": [],
   "source": [
    "X_train, X__, y_train, y__ = train_test_split(data_pca, data_labels, test_size=0.2, random_state=42)\n",
    "X_test, X_cv, y_test, y_cv = train_test_split(X__, y__, test_size=0.5, random_state=42)\n",
    "del(X__,y__)"
   ]
  },
  {
   "cell_type": "markdown",
   "id": "4093d8d1",
   "metadata": {},
   "source": [
    "6 - Modeling And Accuracy Calculation using sklearn LogisticRegression"
   ]
  },
  {
   "cell_type": "markdown",
   "id": "8c68bcd2",
   "metadata": {},
   "source": [
    "6.1 - Losgistic Regression model"
   ]
  },
  {
   "cell_type": "code",
   "execution_count": 13,
   "id": "1aac44d7",
   "metadata": {},
   "outputs": [
    {
     "name": "stdout",
     "output_type": "stream",
     "text": [
      "Accuracy on training set: 68.67%\n",
      "Accuracy on CV set: 69.13%\n",
      "Accuracy on testing set: 70.30%\n"
     ]
    }
   ],
   "source": [
    "lr_model = LogisticRegression()\n",
    "lr_model.fit(X_train,y_train)\n",
    "\n",
    "print(f\"Accuracy on training set: {lr_model.score(X_train, y_train)*100:.2f}%\") # Calculate accuracy of training data\n",
    "print(f\"Accuracy on CV set: {lr_model.score(X_cv, y_cv)*100:.2f}%\") # Calculate accuracy of CV data\n",
    "print(f\"Accuracy on testing set: {lr_model.score(X_test, y_test)*100:.2f}%\") # Calculate accuracy of testing data\n"
   ]
  },
  {
   "cell_type": "code",
   "execution_count": 14,
   "id": "1f0d6870",
   "metadata": {},
   "outputs": [
    {
     "name": "stdout",
     "output_type": "stream",
     "text": [
      "Lowest CV MSE is found in the model with degree = 2\n",
      "Accuracy on training set: 68.68%\n",
      "Accuracy on CV set: 69.19%\n",
      "Accuracy on testing set: 70.24%\n"
     ]
    }
   ],
   "source": [
    "# adding polynominal features and scalling data to improve accuracy\n",
    "\n",
    "models = []\n",
    "polys = []\n",
    "scalers = []\n",
    "train_mses=[]\n",
    "cv_mses=[]\n",
    "\n",
    "for degree in range(1,10):\n",
    "    #Poly\n",
    "    poly = PolynomialFeatures(degree=degree,include_bias=False)\n",
    "    X_train_mapped = poly.fit_transform(X_train)\n",
    "    polys.append(poly)\n",
    "    \n",
    "    #scaler\n",
    "    scaler = StandardScaler()\n",
    "    X_train_mapped_scaled = scaler.fit_transform(X_train_mapped)\n",
    "    scalers.append(scaler)\n",
    "    \n",
    "    #model\n",
    "    model = LogisticRegression()\n",
    "    model.fit(X_train_mapped_scaled,y_train)\n",
    "    models.append(model)\n",
    "    \n",
    "    #Get training mse\n",
    "    y_predict = model.predict(X_train_mapped_scaled)\n",
    "    train_mse = mean_squared_error(y_train,y_predict) / 2\n",
    "    train_mses.append(train_mse)\n",
    "    \n",
    "    #Get CV mse\n",
    "    X_cv_mapped = poly.transform(X_cv)\n",
    "    X_cv_mapped_scaled = scaler.transform(X_cv_mapped)\n",
    "    y_predict = model.predict(X_cv_mapped_scaled)\n",
    "    cv_mse = mean_squared_error(y_cv,y_predict) / 2\n",
    "    cv_mses.append(cv_mse)\n",
    "\n",
    "\n",
    "# Get the degree with lowest CV MSE\n",
    "degree = np.argmin(cv_mses)+1\n",
    "print(f\"Lowest CV MSE is found in the model with degree = {degree}\")\n",
    "\n",
    "# Get the accuracy based of testing data with the best degree\n",
    "\n",
    "X_train_mapped = polys[degree-1].transform(X_train)\n",
    "X_train_mapped_scaled = scalers[degree-1].transform(X_train_mapped)\n",
    "\n",
    "X_cv_mapped = polys[degree-1].transform(X_cv)\n",
    "X_cv_mapped_scaled = scalers[degree-1].transform(X_cv_mapped)\n",
    "    \n",
    "X_test_mapped = polys[degree-1].transform(X_test)\n",
    "X_test_mapped_scaled = scalers[degree-1].transform(X_test_mapped)\n",
    "\n",
    "\n",
    "\n",
    "print(f\"Accuracy on training set: {models[degree-1].score(X_train_mapped_scaled, y_train)*100:.2f}%\") # Calculate accuracy of training data\n",
    "print(f\"Accuracy on CV set: {models[degree-1].score(X_cv_mapped_scaled, y_cv)*100:.2f}%\") # Calculate accuracy of CV data\n",
    "print(f\"Accuracy on testing set: {models[degree-1].score(X_test_mapped_scaled, y_test)*100:.2f}%\") # Calculate accuracy of testing data\n"
   ]
  },
  {
   "cell_type": "markdown",
   "id": "c46b8071",
   "metadata": {},
   "source": [
    "6.2 - Decision Tree model"
   ]
  },
  {
   "cell_type": "code",
   "execution_count": 15,
   "id": "3b59d062",
   "metadata": {},
   "outputs": [
    {
     "name": "stdout",
     "output_type": "stream",
     "text": [
      "Accuracy on training set: 99.47%\n",
      "Accuracy on CV set: 74.96%\n",
      "Accuracy on testing set: 75.41%\n"
     ]
    }
   ],
   "source": [
    "dt_model = DecisionTreeClassifier()\n",
    "dt_model.fit(X_train,y_train)\n",
    "print(f\"Accuracy on training set: {dt_model.score(X_train, y_train)*100:.2f}%\") # Calculate accuracy of training data\n",
    "print(f\"Accuracy on CV set: {dt_model.score(X_cv, y_cv)*100:.2f}%\") # Calculate accuracy of CV data\n",
    "print(f\"Accuracy on testing set: {dt_model.score(X_test, y_test)*100:.2f}%\") # Calculate accuracy of testing data\n"
   ]
  },
  {
   "cell_type": "markdown",
   "id": "dc95121a",
   "metadata": {},
   "source": [
    "6.3 - Gradient Boosting Classifier"
   ]
  },
  {
   "cell_type": "code",
   "execution_count": 16,
   "id": "8fd73bd7",
   "metadata": {},
   "outputs": [
    {
     "name": "stdout",
     "output_type": "stream",
     "text": [
      "Accuracy on training set: 94.82%\n",
      "Accuracy on CV set: 78.06%\n",
      "Accuracy on testing set: 78.81%\n"
     ]
    }
   ],
   "source": [
    "gb_model = GradientBoostingClassifier(n_estimators=100, learning_rate=0.1, max_depth=15, random_state=0)\n",
    "gb_model.fit(X_train,y_train)\n",
    "print(f\"Accuracy on training set: {gb_model.score(X_train, y_train)*100:.2f}%\") # Calculate accuracy\n",
    "print(f\"Accuracy on CV set: {gb_model.score(X_cv, y_cv)*100:.2f}%\") # Calculate accuracy\n",
    "print(f\"Accuracy on testing set: {gb_model.score(X_test, y_test)*100:.2f}%\") # Calculate accuracy\n"
   ]
  },
  {
   "cell_type": "markdown",
   "id": "287476a0",
   "metadata": {},
   "source": [
    "6.4 - Random Forest Classifier"
   ]
  },
  {
   "cell_type": "code",
   "execution_count": 17,
   "id": "1c3e54b3",
   "metadata": {},
   "outputs": [
    {
     "name": "stdout",
     "output_type": "stream",
     "text": [
      "Accuracy on training set: 99.47%\n",
      "Accuracy on CV set: 78.51%\n",
      "Accuracy on testing set: 79.80%\n"
     ]
    }
   ],
   "source": [
    "rf_model = RandomForestClassifier()\n",
    "rf_model.fit(X_train,y_train)\n",
    "print(f\"Accuracy on training set: {rf_model.score(X_train, y_train)*100:.2f}%\") # Calculate accuracy\n",
    "print(f\"Accuracy on CV set: {rf_model.score(X_cv, y_cv)*100:.2f}%\") # Calculate accuracy\n",
    "print(f\"Accuracy on testing set: {rf_model.score(X_test, y_test)*100:.2f}%\") # Calculate accuracy\n"
   ]
  },
  {
   "cell_type": "markdown",
   "id": "537e3d74",
   "metadata": {},
   "source": [
    "# Task 3"
   ]
  },
  {
   "cell_type": "markdown",
   "id": "fc939c0b",
   "metadata": {},
   "source": [
    "1 - Hyperparameter Tuning"
   ]
  },
  {
   "cell_type": "code",
   "execution_count": 18,
   "id": "a5b2c766",
   "metadata": {},
   "outputs": [],
   "source": [
    "from sklearn.model_selection import RandomizedSearchCV\n",
    "from scipy.stats import loguniform\n",
    "from sklearn.metrics import accuracy_score"
   ]
  },
  {
   "cell_type": "markdown",
   "id": "bf14a27b",
   "metadata": {},
   "source": [
    "1.1 - Hyperparameter Tuning for Logistic Regression\n",
    "- C\tInverse of regularization strength. Smaller values mean stronger regularization. (Default = 1.0)\n",
    "- penalty\tType of regularization: 'l1', 'l2', 'elasticnet', or 'none'\n",
    "- solver\tAlgorithm used to solve optimization: 'liblinear', 'saga', 'newton-cg', 'lbfgs', etc.\n",
    "- max_iter\tMaximum number of iterations for the solver to converge"
   ]
  },
  {
   "cell_type": "code",
   "execution_count": 19,
   "id": "e844d961",
   "metadata": {},
   "outputs": [
    {
     "name": "stdout",
     "output_type": "stream",
     "text": [
      "Best parameters: {'C': 0.004870849610200301, 'max_iter': 100, 'penalty': 'l1', 'solver': 'saga'}\n",
      "Accuracy on training set: 68.76%\n",
      "Accuracy on CV set: 69.16%\n",
      "Accuracy on Testing set: 70.45%\n"
     ]
    }
   ],
   "source": [
    "# Use Random search instead of Grid search to avoid long searching time\n",
    "\n",
    "# parameters to be tuned:\n",
    "params = {\n",
    "    'C': loguniform(0.001, 100),\n",
    "    'penalty' : ['l1', 'l2', 'elasticnet', 'none'],\n",
    "    'solver' : ['liblinear', 'saga', 'newton-cg', 'lbfgs'],\n",
    "    'max_iter' : [100, 200, 500],\n",
    "}\n",
    "\n",
    "\n",
    "random_search = RandomizedSearchCV(LogisticRegression(),param_distributions=params, n_iter=100,scoring='accuracy', cv=5, random_state=42, n_jobs=-1)\n",
    "\n",
    "random_search.fit(X_train_mapped_scaled,y_train)\n",
    "\n",
    "print(\"Best parameters:\", random_search.best_params_)\n",
    "\n",
    "print(f\"Accuracy on training set: {random_search.best_score_*100:.2f}%\") # Calculate accuracy\n",
    "\n",
    "y_pred = random_search.predict(X_cv_mapped_scaled)\n",
    "print(f\"Accuracy on CV set: {accuracy_score(y_cv, y_pred)*100:.2f}%\") # Calculate accuracy\n",
    "\n",
    "y_pred = random_search.predict(X_test_mapped_scaled)\n",
    "print(f\"Accuracy on Testing set: {accuracy_score(y_test, y_pred)*100:.2f}%\") # Calculate accuracy"
   ]
  },
  {
   "cell_type": "markdown",
   "id": "78f97dfe",
   "metadata": {},
   "source": [
    "1.2 - Hyperparameter Tuning for Decision Tree\n",
    "- criterion\tFunction to measure the quality of a split: \"gini\" (default) or \"entropy\".\n",
    "- max_depth\tMaximum depth of the tree. Limits overfitting by preventing trees from growing too deep.\n",
    "- min_samples_split\tMinimum number of samples required to split an internal node. Higher values = more conservative splits.\n",
    "- min_samples_leaf\tMinimum number of samples required to be at a leaf node. Prevents overfitting to noise.\n",
    "- max_leaf_nodes\tLimits the number of leaf nodes. Helps with pruning the tree.\n",
    "- max_features\tNumber of features to consider when looking for the best split. Can be \"auto\", \"sqrt\", \"log2\", or an int/float."
   ]
  },
  {
   "cell_type": "code",
   "execution_count": 20,
   "id": "d21ed881",
   "metadata": {},
   "outputs": [
    {
     "name": "stdout",
     "output_type": "stream",
     "text": [
      "Best parameters: {'min_samples_split': 2, 'min_samples_leaf': 1, 'max_features': 'log2', 'max_depth': 100, 'criterion': 'gini'}\n",
      "Accuracy on training set: 74.25%\n",
      "Accuracy on CV set: 75.62%\n",
      "Accuracy on Testing set: 76.19%\n"
     ]
    }
   ],
   "source": [
    "# Use Random search instead of Grid search to avoid long searching time\n",
    "\n",
    "# parameters to be tuned:\n",
    "params = {\n",
    "    'criterion': ['gini', 'entropy'],\n",
    "    'max_depth': [None, 5, 10, 20, 30, 50, 100],\n",
    "    'min_samples_split': [2, 5, 10, 20, 30, 50],\n",
    "    'min_samples_leaf': [1, 2, 4, 6, 8, 10],\n",
    "    'max_features': [None, 'sqrt', 'log2'],\n",
    "}\n",
    "\n",
    "\n",
    "random_search = RandomizedSearchCV(DecisionTreeClassifier(),param_distributions=params, n_iter=50,scoring='accuracy', cv=5, random_state=42, n_jobs=-1)\n",
    "\n",
    "random_search.fit(X_train,y_train)\n",
    "\n",
    "print(\"Best parameters:\", random_search.best_params_)\n",
    "\n",
    "print(f\"Accuracy on training set: {random_search.best_score_*100:.2f}%\") # Calculate accuracy\n",
    "\n",
    "y_pred = random_search.predict(X_cv)\n",
    "print(f\"Accuracy on CV set: {accuracy_score(y_cv, y_pred)*100:.2f}%\") # Calculate accuracy\n",
    "\n",
    "y_pred = random_search.predict(X_test)\n",
    "print(f\"Accuracy on Testing set: {accuracy_score(y_test, y_pred)*100:.2f}%\") # Calculate accuracy\n",
    "\n"
   ]
  },
  {
   "cell_type": "markdown",
   "id": "839a1116",
   "metadata": {},
   "source": [
    "1.3 - Hyperparameter Tuning for Gradient Boosting Classifier\n",
    "- n_estimators\tNumber of boosting stages (trees)\n",
    "- learning_rate\tShrinks contribution of each tree\n",
    "- max_depth\tMax depth of individual trees\t\n",
    "- min_samples_split\tMinimum samples needed to split a node\n",
    "- min_samples_leaf\tMinimum samples required at a leaf node\n",
    "- subsample\tFraction of samples used per tree (for randomness)\n",
    "- max_features\tMax number of features per tree (auto, sqrt, log2, or int/float)"
   ]
  },
  {
   "cell_type": "code",
   "execution_count": 21,
   "id": "eb9a3294",
   "metadata": {},
   "outputs": [
    {
     "name": "stdout",
     "output_type": "stream",
     "text": [
      "Best parameters: {'subsample': 0.7, 'n_estimators': 300, 'min_samples_split': 5, 'min_samples_leaf': 2, 'max_features': None, 'max_depth': 10, 'learning_rate': 0.1}\n",
      "Accuracy on training set: 77.13%\n",
      "Accuracy on CV set: 77.88%\n",
      "Accuracy on Testing set: 78.75%\n"
     ]
    }
   ],
   "source": [
    "# Use Random search instead of Grid search to avoid long searching time\n",
    "# parameters to be tuned:\n",
    "params = {\n",
    "    'n_estimators': [100, 200, 300, 500],\n",
    "    'learning_rate': [0.01, 0.05, 0.1, 0.5],\n",
    "    'max_depth': [3, 5, 7, 10, 15],\n",
    "    'min_samples_split': [2, 5],\n",
    "    'min_samples_leaf': [1, 2, 4, 6, 8, 10],\n",
    "    'subsample': [0.7, 1.0],\n",
    "    'max_features': [None, 'sqrt', 'log2'],\n",
    "}\n",
    "\n",
    "\n",
    "random_search = RandomizedSearchCV(GradientBoostingClassifier(),param_distributions=params, n_iter=10,scoring='accuracy', cv=5, random_state=42, n_jobs=-1)\n",
    "\n",
    "random_search.fit(X_train,y_train)\n",
    "\n",
    "print(\"Best parameters:\", random_search.best_params_)\n",
    "\n",
    "print(f\"Accuracy on training set: {random_search.best_score_*100:.2f}%\") # Calculate accuracy\n",
    "\n",
    "y_pred = random_search.predict(X_cv)\n",
    "print(f\"Accuracy on CV set: {accuracy_score(y_cv, y_pred)*100:.2f}%\") # Calculate accuracy\n",
    "\n",
    "y_pred = random_search.predict(X_test)\n",
    "print(f\"Accuracy on Testing set: {accuracy_score(y_test, y_pred)*100:.2f}%\") # Calculate accuracy\n",
    "\n"
   ]
  },
  {
   "cell_type": "markdown",
   "id": "4d3f2eae",
   "metadata": {},
   "source": [
    "1.4 - Hyperparameter Tuning for Random Forest Classifier\n",
    "- n_estimators\tNumber of trees in the forest\t\n",
    "- criterion\tFunction to measure the quality of a split\t\n",
    "- max_depth\tMaximum depth of each tree\t\n",
    "- min_samples_split\tMinimum number of samples required to split a node\t\n",
    "- min_samples_leaf\tMinimum number of samples required at a leaf node\t\n",
    "- max_features\tNumber of features to consider when looking for the best split\t\n",
    "- bootstrap\tWhether bootstrap samples are used when building trees\t"
   ]
  },
  {
   "cell_type": "code",
   "execution_count": 22,
   "id": "2cf44023",
   "metadata": {},
   "outputs": [
    {
     "name": "stdout",
     "output_type": "stream",
     "text": [
      "Best parameters: {'n_estimators': 100, 'min_samples_split': 5, 'min_samples_leaf': 1, 'max_features': 'log2', 'max_depth': None, 'bootstrap': True}\n",
      "Accuracy on training set: 77.45%\n",
      "Accuracy on CV set: 78.72%\n",
      "Accuracy on Testing set: 79.26%\n"
     ]
    }
   ],
   "source": [
    "# Use Random search instead of Grid search to avoid long searching time\n",
    "# parameters to be tuned:\n",
    "params = {\n",
    "    'n_estimators': [100, 200, 500],\n",
    "    'max_depth': [None, 10, 20, 30],\n",
    "    'min_samples_split': [2, 5, 10],\n",
    "    'min_samples_leaf': [1, 2, 4],\n",
    "    'max_features': ['sqrt', 'log2'],\n",
    "    'bootstrap': [True, False]\n",
    "}\n",
    "\n",
    "\n",
    "random_search = RandomizedSearchCV(RandomForestClassifier(),param_distributions=params, n_iter=10,scoring='accuracy', cv=5, random_state=42, n_jobs=-1)\n",
    "\n",
    "random_search.fit(X_train,y_train)\n",
    "\n",
    "print(\"Best parameters:\", random_search.best_params_)\n",
    "\n",
    "print(f\"Accuracy on training set: {random_search.best_score_*100:.2f}%\") # Calculate accuracy\n",
    "\n",
    "y_pred = random_search.predict(X_cv)\n",
    "print(f\"Accuracy on CV set: {accuracy_score(y_cv, y_pred)*100:.2f}%\") # Calculate accuracy\n",
    "\n",
    "y_pred = random_search.predict(X_test)\n",
    "print(f\"Accuracy on Testing set: {accuracy_score(y_test, y_pred)*100:.2f}%\") # Calculate accuracy\n",
    "\n"
   ]
  },
  {
   "cell_type": "markdown",
   "id": "ba0ec565",
   "metadata": {},
   "source": [
    "2 - Try one or more feature selection method to optimize model accuracy\n",
    "* using Logistic Regression Classifier as our classification model"
   ]
  },
  {
   "cell_type": "markdown",
   "id": "da232468",
   "metadata": {},
   "source": [
    "2.1 PCA"
   ]
  },
  {
   "cell_type": "code",
   "execution_count": 46,
   "id": "ab51cac8",
   "metadata": {},
   "outputs": [
    {
     "name": "stdout",
     "output_type": "stream",
     "text": [
      "Accuracy on training set: 68.67%\n",
      "Accuracy on testing set: 69.73%\n"
     ]
    }
   ],
   "source": [
    "# Standardize the features\n",
    "scaler = StandardScaler()\n",
    "data_scaled = scaler.fit_transform(data_filtered)\n",
    "\n",
    "pca = PCA(n_components=2)\n",
    "data_pca = pca.fit_transform(data_scaled)\n",
    "\n",
    "X_train, X_test, y_train, y_test = train_test_split(data_pca, data_labels, test_size=0.2, random_state=42)\n",
    "\n",
    "lr_model = LogisticRegression()\n",
    "lr_model.fit(X_train,y_train)\n",
    "\n",
    "print(f\"Accuracy on training set: {lr_model.score(X_train, y_train)*100:.2f}%\") # Calculate accuracy of training data\n",
    "print(f\"Accuracy on testing set: {lr_model.score(X_test, y_test)*100:.2f}%\") # Calculate accuracy of testing data"
   ]
  },
  {
   "cell_type": "markdown",
   "id": "1eb49752",
   "metadata": {},
   "source": [
    "2.2 Sequential Feature Selection (SFS)"
   ]
  },
  {
   "cell_type": "code",
   "execution_count": null,
   "id": "77078dbb",
   "metadata": {},
   "outputs": [],
   "source": [
    "from sklearn.feature_selection import SequentialFeatureSelector"
   ]
  },
  {
   "cell_type": "code",
   "execution_count": 33,
   "id": "45351aaf",
   "metadata": {},
   "outputs": [
    {
     "data": {
      "text/html": [
       "<style>#sk-container-id-3 {color: black;}#sk-container-id-3 pre{padding: 0;}#sk-container-id-3 div.sk-toggleable {background-color: white;}#sk-container-id-3 label.sk-toggleable__label {cursor: pointer;display: block;width: 100%;margin-bottom: 0;padding: 0.3em;box-sizing: border-box;text-align: center;}#sk-container-id-3 label.sk-toggleable__label-arrow:before {content: \"▸\";float: left;margin-right: 0.25em;color: #696969;}#sk-container-id-3 label.sk-toggleable__label-arrow:hover:before {color: black;}#sk-container-id-3 div.sk-estimator:hover label.sk-toggleable__label-arrow:before {color: black;}#sk-container-id-3 div.sk-toggleable__content {max-height: 0;max-width: 0;overflow: hidden;text-align: left;background-color: #f0f8ff;}#sk-container-id-3 div.sk-toggleable__content pre {margin: 0.2em;color: black;border-radius: 0.25em;background-color: #f0f8ff;}#sk-container-id-3 input.sk-toggleable__control:checked~div.sk-toggleable__content {max-height: 200px;max-width: 100%;overflow: auto;}#sk-container-id-3 input.sk-toggleable__control:checked~label.sk-toggleable__label-arrow:before {content: \"▾\";}#sk-container-id-3 div.sk-estimator input.sk-toggleable__control:checked~label.sk-toggleable__label {background-color: #d4ebff;}#sk-container-id-3 div.sk-label input.sk-toggleable__control:checked~label.sk-toggleable__label {background-color: #d4ebff;}#sk-container-id-3 input.sk-hidden--visually {border: 0;clip: rect(1px 1px 1px 1px);clip: rect(1px, 1px, 1px, 1px);height: 1px;margin: -1px;overflow: hidden;padding: 0;position: absolute;width: 1px;}#sk-container-id-3 div.sk-estimator {font-family: monospace;background-color: #f0f8ff;border: 1px dotted black;border-radius: 0.25em;box-sizing: border-box;margin-bottom: 0.5em;}#sk-container-id-3 div.sk-estimator:hover {background-color: #d4ebff;}#sk-container-id-3 div.sk-parallel-item::after {content: \"\";width: 100%;border-bottom: 1px solid gray;flex-grow: 1;}#sk-container-id-3 div.sk-label:hover label.sk-toggleable__label {background-color: #d4ebff;}#sk-container-id-3 div.sk-serial::before {content: \"\";position: absolute;border-left: 1px solid gray;box-sizing: border-box;top: 0;bottom: 0;left: 50%;z-index: 0;}#sk-container-id-3 div.sk-serial {display: flex;flex-direction: column;align-items: center;background-color: white;padding-right: 0.2em;padding-left: 0.2em;position: relative;}#sk-container-id-3 div.sk-item {position: relative;z-index: 1;}#sk-container-id-3 div.sk-parallel {display: flex;align-items: stretch;justify-content: center;background-color: white;position: relative;}#sk-container-id-3 div.sk-item::before, #sk-container-id-3 div.sk-parallel-item::before {content: \"\";position: absolute;border-left: 1px solid gray;box-sizing: border-box;top: 0;bottom: 0;left: 50%;z-index: -1;}#sk-container-id-3 div.sk-parallel-item {display: flex;flex-direction: column;z-index: 1;position: relative;background-color: white;}#sk-container-id-3 div.sk-parallel-item:first-child::after {align-self: flex-end;width: 50%;}#sk-container-id-3 div.sk-parallel-item:last-child::after {align-self: flex-start;width: 50%;}#sk-container-id-3 div.sk-parallel-item:only-child::after {width: 0;}#sk-container-id-3 div.sk-dashed-wrapped {border: 1px dashed gray;margin: 0 0.4em 0.5em 0.4em;box-sizing: border-box;padding-bottom: 0.4em;background-color: white;}#sk-container-id-3 div.sk-label label {font-family: monospace;font-weight: bold;display: inline-block;line-height: 1.2em;}#sk-container-id-3 div.sk-label-container {text-align: center;}#sk-container-id-3 div.sk-container {/* jupyter's `normalize.less` sets `[hidden] { display: none; }` but bootstrap.min.css set `[hidden] { display: none !important; }` so we also need the `!important` here to be able to override the default hidden behavior on the sphinx rendered scikit-learn.org. See: https://github.com/scikit-learn/scikit-learn/issues/21755 */display: inline-block !important;position: relative;}#sk-container-id-3 div.sk-text-repr-fallback {display: none;}</style><div id=\"sk-container-id-3\" class=\"sk-top-container\"><div class=\"sk-text-repr-fallback\"><pre>SequentialFeatureSelector(estimator=LogisticRegression(max_iter=500),\n",
       "                          n_features_to_select=5, n_jobs=-1,\n",
       "                          scoring=&#x27;accuracy&#x27;)</pre><b>In a Jupyter environment, please rerun this cell to show the HTML representation or trust the notebook. <br />On GitHub, the HTML representation is unable to render, please try loading this page with nbviewer.org.</b></div><div class=\"sk-container\" hidden><div class=\"sk-item sk-dashed-wrapped\"><div class=\"sk-label-container\"><div class=\"sk-label sk-toggleable\"><input class=\"sk-toggleable__control sk-hidden--visually\" id=\"sk-estimator-id-7\" type=\"checkbox\" ><label for=\"sk-estimator-id-7\" class=\"sk-toggleable__label sk-toggleable__label-arrow\">SequentialFeatureSelector</label><div class=\"sk-toggleable__content\"><pre>SequentialFeatureSelector(estimator=LogisticRegression(max_iter=500),\n",
       "                          n_features_to_select=5, n_jobs=-1,\n",
       "                          scoring=&#x27;accuracy&#x27;)</pre></div></div></div><div class=\"sk-parallel\"><div class=\"sk-parallel-item\"><div class=\"sk-item\"><div class=\"sk-label-container\"><div class=\"sk-label sk-toggleable\"><input class=\"sk-toggleable__control sk-hidden--visually\" id=\"sk-estimator-id-8\" type=\"checkbox\" ><label for=\"sk-estimator-id-8\" class=\"sk-toggleable__label sk-toggleable__label-arrow\">estimator: LogisticRegression</label><div class=\"sk-toggleable__content\"><pre>LogisticRegression(max_iter=500)</pre></div></div></div><div class=\"sk-serial\"><div class=\"sk-item\"><div class=\"sk-estimator sk-toggleable\"><input class=\"sk-toggleable__control sk-hidden--visually\" id=\"sk-estimator-id-9\" type=\"checkbox\" ><label for=\"sk-estimator-id-9\" class=\"sk-toggleable__label sk-toggleable__label-arrow\">LogisticRegression</label><div class=\"sk-toggleable__content\"><pre>LogisticRegression(max_iter=500)</pre></div></div></div></div></div></div></div></div></div></div>"
      ],
      "text/plain": [
       "SequentialFeatureSelector(estimator=LogisticRegression(max_iter=500),\n",
       "                          n_features_to_select=5, n_jobs=-1,\n",
       "                          scoring='accuracy')"
      ]
     },
     "execution_count": 33,
     "metadata": {},
     "output_type": "execute_result"
    }
   ],
   "source": [
    "model = LogisticRegression(max_iter=500)\n",
    "\n",
    "sfs = SequentialFeatureSelector(model,n_features_to_select=5,direction='forward', scoring='accuracy', cv=5, n_jobs=-1)\n",
    "\n",
    "data_train, data_test, labels_train, labels_test = train_test_split(data_filtered,data_labels,test_size=0.2,random_state=68)\n",
    "sfs.fit(data_train,labels_train)"
   ]
  },
  {
   "cell_type": "code",
   "execution_count": null,
   "id": "7baad34f",
   "metadata": {},
   "outputs": [
    {
     "name": "stdout",
     "output_type": "stream",
     "text": [
      "Selected feature indices: ['room type', 'lead time', 'P-C', 'stay_duration', 'total_guests']\n",
      "Accuracy of training data with selected features: 75.38%\n",
      "Accuracy of testing data with selected features: 75.76%\n"
     ]
    }
   ],
   "source": [
    "selected_features_mask = sfs.get_support()\n",
    "selected_features = data_train.columns[selected_features_mask]\n",
    "print(\"Selected features: \", list(selected_features))\n",
    "\n",
    "data_train_selected = data_train[selected_features]\n",
    "data_test_selected = data_test[selected_features]\n",
    "\n",
    "model.fit(data_train_selected,labels_train)\n",
    "\n",
    "print(f\"Accuracy of training data with selected features: {model.score(data_train_selected, labels_train)*100:.2f}%\")\n",
    "print(f\"Accuracy of testing data with selected features: {model.score(data_test_selected, labels_test)*100:.2f}%\")"
   ]
  },
  {
   "cell_type": "markdown",
   "id": "6de71759",
   "metadata": {},
   "source": [
    "2.3 ANOVA F-test"
   ]
  },
  {
   "cell_type": "code",
   "execution_count": 67,
   "id": "92829f64",
   "metadata": {},
   "outputs": [
    {
     "name": "stdout",
     "output_type": "stream",
     "text": [
      "Selected features:  ['lead time', 'market segment type', 'average price', 'special requests', 'date of reservation']\n",
      "Accuracy of training data with selected features: 68.67%\n",
      "Accuracy of testing data with selected features: 69.01%\n"
     ]
    }
   ],
   "source": [
    "from sklearn.feature_selection import SelectKBest, f_classif\n",
    "\n",
    "data_train, data_test, labels_train, labels_test = train_test_split(data_filtered,data_labels,test_size=0.2,random_state=68)\n",
    "\n",
    "selector = SelectKBest(score_func=f_classif, k=5)\n",
    "\n",
    "selector.fit_transform(data_train,labels_train)\n",
    "\n",
    "selected_features_mask = selector.get_support()\n",
    "selected_features = data_train.columns[selected_features_mask]\n",
    "\n",
    "print(\"Selected features: \", list(selected_features))\n",
    "\n",
    "data_train_selected = data_train[selected_features]\n",
    "data_test_selected = data_test[selected_features]\n",
    "\n",
    "model_lr = LogisticRegression(max_iter=500)\n",
    "model_lr.fit(data_train_selected,labels_train)\n",
    "\n",
    "print(f\"Accuracy of training data with selected features: {model_lr.score(data_train_selected, labels_train)*100:.2f}%\")\n",
    "print(f\"Accuracy of testing data with selected features: {model_lr.score(data_test_selected, labels_test)*100:.2f}%\")\n",
    "\n"
   ]
  },
  {
   "cell_type": "markdown",
   "id": "3a6300a5",
   "metadata": {},
   "source": [
    "3 - Extract the model so it can be a pre trained model using Pickel Library\n",
    "* using logistic regression model with ['room type', 'lead time', 'P-C', 'stay_duration', 'total_guests'] features for high accuracy"
   ]
  },
  {
   "cell_type": "code",
   "execution_count": 69,
   "id": "cb4f6e49",
   "metadata": {},
   "outputs": [],
   "source": [
    "import pickle\n"
   ]
  },
  {
   "cell_type": "code",
   "execution_count": 73,
   "id": "bd5cb369",
   "metadata": {},
   "outputs": [
    {
     "name": "stdout",
     "output_type": "stream",
     "text": [
      "Accuracy of the model on training data is : 75.38%\n",
      "Accuracy of the model on testing data is : 75.76%\n"
     ]
    }
   ],
   "source": [
    "data_train, data_test, labels_train, labels_test = train_test_split(data_filtered,data_labels,test_size=0.2,random_state=68)\n",
    "\n",
    "data_train_selected = data_train[['room type', 'lead time', 'P-C', 'stay_duration', 'total_guests']]\n",
    "data_test_selected = data_test[['room type', 'lead time', 'P-C', 'stay_duration', 'total_guests']]\n",
    "\n",
    "model = LogisticRegression(max_iter=500)\n",
    "model.fit(data_train_selected,labels_train)\n",
    "\n",
    "print(f\"Accuracy of the model on training data is : {model.score(data_train_selected, labels_train)*100:.2f}%\")\n",
    "print(f\"Accuracy of the model on testing data is : {model.score(data_test_selected, labels_test)*100:.2f}%\")"
   ]
  },
  {
   "cell_type": "code",
   "execution_count": 78,
   "id": "af52bc8a",
   "metadata": {},
   "outputs": [
    {
     "name": "stdout",
     "output_type": "stream",
     "text": [
      "Model is saved in pickle file named 'logistic_model.pkl'\n",
      "Model is loaded from pickle file named 'logistic_model.pkl'\n",
      "Accuracy of the loaded model on training data is : 75.38%\n",
      "Accuracy of the loaded model on testing data is : 75.76%\n"
     ]
    }
   ],
   "source": [
    "# save the model using pickle\n",
    "with open(\"logistic_model.pkl\",\"wb\") as file:\n",
    "    pickle.dump(model,file)\n",
    "    \n",
    "print(\"Model is saved in pickle file named 'logistic_model.pkl'\")\n",
    "\n",
    "# load the model and use \n",
    "with open('logistic_model.pkl', 'rb') as file:\n",
    "    loaded_model = pickle.load(file)\n",
    "\n",
    "print(\"Model is loaded from pickle file named 'logistic_model.pkl'\")\n",
    "\n",
    "print(f\"Accuracy of the loaded model on training data is : {model.score(data_train_selected, labels_train)*100:.2f}%\")\n",
    "print(f\"Accuracy of the loaded model on testing data is : {model.score(data_test_selected, labels_test)*100:.2f}%\")"
   ]
  }
 ],
 "metadata": {
  "kernelspec": {
   "display_name": "Python 3",
   "language": "python",
   "name": "python3"
  },
  "language_info": {
   "codemirror_mode": {
    "name": "ipython",
    "version": 3
   },
   "file_extension": ".py",
   "mimetype": "text/x-python",
   "name": "python",
   "nbconvert_exporter": "python",
   "pygments_lexer": "ipython3",
   "version": "3.8.6"
  }
 },
 "nbformat": 4,
 "nbformat_minor": 5
}
